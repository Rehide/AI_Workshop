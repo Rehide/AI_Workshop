{
 "cells": [
  {
   "attachments": {},
   "cell_type": "markdown",
   "metadata": {},
   "source": [
    "# OpenCV\n",
    "### コンピューターで画像や動画を処理するのに必要な様々な機能が実装されているオープンソースライブラリ "
   ]
  },
  {
   "cell_type": "markdown",
   "metadata": {},
   "source": [
    "---\n",
    "## 1. OpenCVを用いた基本的な処理"
   ]
  },
  {
   "cell_type": "markdown",
   "metadata": {},
   "source": [
    "---\n",
    "### 1.1. 画像を読み込む・表示する・保存する"
   ]
  },
  {
   "cell_type": "code",
   "execution_count": null,
   "metadata": {},
   "outputs": [],
   "source": [
    "# OpenCVを読み込む　\n",
    "import cv2 \n",
    "\n",
    "# matplotlibを読み込む\n",
    "from matplotlib import pyplot as plt"
   ]
  },
  {
   "cell_type": "code",
   "execution_count": null,
   "metadata": {
    "scrolled": true
   },
   "outputs": [],
   "source": [
    "# cv2.imread(パス): 画像の読み込み\n",
    "img = cv2.imread(\"image/Lenna.png\") \n",
    "\n",
    "# cv2.imwrite(パス, 画像): 画像の保存\n",
    "cv2.imwrite(\"image/Lenna_copy.png\", img) \n",
    "\n",
    "# opencvを用いた画像の出力（Macのjupyter notebook上ではフリーズする）\n",
    "# cv2.imshow(タイトル名, 画像)\n",
    "# cv2.imshow(\"image\", img)  \n",
    "\n",
    "# matplotlibを用いた画像の出力 （OpenCV: BGRモード, Matplotlib: RGBモード）\n",
    "# BGR → RGBに変換\n",
    "img = cv2.cvtColor(img, cv2.COLOR_BGR2RGB) \n",
    "plt.imshow(img)"
   ]
  },
  {
   "cell_type": "markdown",
   "metadata": {},
   "source": [
    "---\n",
    "### path（パス）とは\n",
    "ファイルやフォルダの置いてある場所のこと。プログラムからファイルを呼び出す場合は、必ずpathを指定する。  \n",
    "pathの指定方法は以下の２通りがある。  \n",
    "  \n",
    "  \n",
    "絶対パス：ルートディレクトリと呼ばれる階層構造の頂点から目的地までの経路  \n",
    "相対パス：ユーザが現在作業しているフォルダから目的のフォルダまでの経路  \n",
    "  \n",
    "  \n",
    "  \n",
    "(例1)  \n",
    "OpenCV.ipynbでimageディレクトリにあるLenna.pngを読み込む場合\n",
    "  \n",
    "絶対パス:  /Users/ユーザ名/Documents/python/AI_working/opencv/image/Lenna.png  \n",
    "相対パス:  image/Lenna.png  \n",
    "  \n",
    "  \n",
    "(例2)    \n",
    "OpenCV.ipynbでmovieディレクトリにあるcar.mp4を読み込む場合  \n",
    "  \n",
    "絶対パス:  /Users/ユーザ名/Documents/python/AI_working/movie/car.mp4  \n",
    "相対パス:  ../movie/car.mp4  "
   ]
  },
  {
   "cell_type": "markdown",
   "metadata": {},
   "source": [
    "---\n",
    "#### 例題\n",
    "cat-or-dog/predictにあるdog1.jpgを表示してみましょう。⁩"
   ]
  },
  {
   "cell_type": "code",
   "execution_count": null,
   "metadata": {},
   "outputs": [],
   "source": []
  },
  {
   "cell_type": "markdown",
   "metadata": {},
   "source": [
    "---\n",
    "### 1.2 画像をリサイズする"
   ]
  },
  {
   "cell_type": "markdown",
   "metadata": {},
   "source": [
    "#### 指定のサイズにリサイズ"
   ]
  },
  {
   "cell_type": "code",
   "execution_count": null,
   "metadata": {},
   "outputs": [],
   "source": [
    "# 画像の読み込み\n",
    "img = cv2.imread(\"image/Lenna.png\") \n",
    "\n",
    "# サイズの指定\n",
    "size = (64, 64)\n",
    "\n",
    "# 指定のサイズにリサイズ\n",
    "img = cv2.resize(img, size)\n",
    "\n",
    "# 画像の保存\n",
    "cv2.imwrite(\"image/Lenna_resize64.png\", img)\n",
    "\n",
    "# BGR → RGBに変換\n",
    "img = cv2.cvtColor(img, cv2.COLOR_BGR2RGB)\n",
    "\n",
    "# 画像の表示\n",
    "plt.imshow(img)"
   ]
  },
  {
   "cell_type": "markdown",
   "metadata": {},
   "source": [
    "#### 1/2倍にリサイズ"
   ]
  },
  {
   "cell_type": "code",
   "execution_count": null,
   "metadata": {},
   "outputs": [],
   "source": [
    "# 画像の読み込み\n",
    "img = cv2.imread(\"image/Lenna.png\") \n",
    "\n",
    "# 画像の高さと幅を取得\n",
    "orgHeight, orgWidth = img.shape[:2] \n",
    "# サイズの決定\n",
    "size_half = (int(orgWidth/2), int(orgHeight/2))\n",
    "# リサイズ\n",
    "img_half = cv2.resize(img, size_half)\n",
    "\n",
    "# 画像の保存\n",
    "cv2.imwrite(\"image/Lenna_half.png\", img_half)\n",
    "\n",
    "# BGR → RGBに変換\n",
    "img_half = cv2.cvtColor(img_half, cv2.COLOR_BGR2RGB)\n",
    "\n",
    "# 画像の表示\n",
    "plt.imshow(img_half)"
   ]
  },
  {
   "cell_type": "markdown",
   "metadata": {},
   "source": [
    "---\n",
    "### 1.3 画像をグレースケール化する"
   ]
  },
  {
   "cell_type": "code",
   "execution_count": null,
   "metadata": {
    "scrolled": true
   },
   "outputs": [],
   "source": [
    "img = cv2.imread(\"image/Lenna.png\")\n",
    "\n",
    "# グレースケール化\n",
    "img_gray = cv2.cvtColor(img, cv2.COLOR_BGR2GRAY)  \n",
    "\n",
    "cv2.imwrite(\"image/Lenna_gray.png\", img_gray)\n",
    "plt.imshow(img_gray)"
   ]
  },
  {
   "cell_type": "markdown",
   "metadata": {},
   "source": [
    "---\n",
    "### 1.4 画像を2値化する"
   ]
  },
  {
   "cell_type": "code",
   "execution_count": null,
   "metadata": {},
   "outputs": [],
   "source": [
    "img = cv2.imread(\"image/Lenna.png\")\n",
    "\n",
    "# グレースケール化\n",
    "img_gray = cv2.cvtColor(img, cv2.COLOR_BGR2GRAY)  \n",
    "\n",
    "# 閾値\n",
    "threshold = 120\n",
    "# ２値化\n",
    "ret, th_img1 = cv2.threshold(img_gray, threshold, 255, cv2.THRESH_BINARY)\n",
    "\n",
    "cv2.imwrite(\"image/Lenna_binary.png\", th_img1)\n",
    "plt.imshow(th_img1)"
   ]
  },
  {
   "cell_type": "markdown",
   "metadata": {},
   "source": [
    "---\n",
    "### 1.5 動画を読み込む・再生する"
   ]
  },
  {
   "cell_type": "markdown",
   "metadata": {},
   "source": [
    "以下のコマンドを入力し、movie.pyを実行  \n",
    "\n",
    "※ jupyter notebook上でcv2.imshowを動かすとフリーズするため  \n",
    "※ matplotlibは動画の読み込みに対応していない  "
   ]
  },
  {
   "cell_type": "code",
   "execution_count": null,
   "metadata": {},
   "outputs": [],
   "source": [
    "!python movie.py"
   ]
  },
  {
   "cell_type": "markdown",
   "metadata": {},
   "source": [
    "---\n",
    "## 2. OpenCVの代表的な機能"
   ]
  },
  {
   "cell_type": "markdown",
   "metadata": {},
   "source": [
    "### 2.1 エッジ検出"
   ]
  },
  {
   "cell_type": "markdown",
   "metadata": {},
   "source": [
    "以下のコマンドを入力し、Edge.pyを実行"
   ]
  },
  {
   "cell_type": "code",
   "execution_count": null,
   "metadata": {},
   "outputs": [],
   "source": [
    "!python Edge.py"
   ]
  },
  {
   "cell_type": "markdown",
   "metadata": {},
   "source": [
    "### 2.2 画像のヒストグラムの可視化"
   ]
  },
  {
   "cell_type": "code",
   "execution_count": null,
   "metadata": {},
   "outputs": [],
   "source": [
    "import cv2\n",
    "from matplotlib import pyplot as plt\n",
    "\n",
    "img = cv2.imread('image/Lenna.png')\n",
    "\n",
    "color = ('b', 'g', 'r')\n",
    "for i, col in enumerate(color):\n",
    "    # ヒストグラムの計算\n",
    "    histr = cv2.calcHist([img], [i], None, [256], [0,256])\n",
    "    # グラフへのプロット\n",
    "    plt.plot(histr, color = col)\n",
    "    plt.xlim([0,256])\n",
    "\n",
    "# グラフの表示\n",
    "plt.show()"
   ]
  },
  {
   "cell_type": "markdown",
   "metadata": {},
   "source": [
    "### 2.3 円検出"
   ]
  },
  {
   "cell_type": "markdown",
   "metadata": {},
   "source": [
    "以下のコマンドを入力し、Circle_detection.pyを実行"
   ]
  },
  {
   "cell_type": "code",
   "execution_count": null,
   "metadata": {},
   "outputs": [],
   "source": [
    "!python Circle_detection.py"
   ]
  },
  {
   "cell_type": "markdown",
   "metadata": {},
   "source": [
    "### 2.4 顔検出"
   ]
  },
  {
   "cell_type": "markdown",
   "metadata": {},
   "source": [
    "以下のコマンドを入力し、Face_detection.pyを実行"
   ]
  },
  {
   "cell_type": "code",
   "execution_count": null,
   "metadata": {},
   "outputs": [],
   "source": [
    "!python Face_detection.py"
   ]
  },
  {
   "cell_type": "markdown",
   "metadata": {},
   "source": [
    "### 2.5 顔部分にモザイクをかける"
   ]
  },
  {
   "cell_type": "markdown",
   "metadata": {},
   "source": [
    "以下のコマンドを入力し、Face_mosaic.pyを実行"
   ]
  },
  {
   "cell_type": "code",
   "execution_count": null,
   "metadata": {},
   "outputs": [],
   "source": [
    "!python Face_mosaic.py"
   ]
  },
  {
   "cell_type": "markdown",
   "metadata": {},
   "source": [
    "---\n",
    "## 問題\n",
    "#### Mac内臓カメラの映像に対して顔検出を行ってみましょう。"
   ]
  },
  {
   "cell_type": "code",
   "execution_count": null,
   "metadata": {},
   "outputs": [],
   "source": []
  }
 ],
 "metadata": {
  "kernelspec": {
   "display_name": "Python 3",
   "language": "python",
   "name": "python3"
  },
  "language_info": {
   "codemirror_mode": {
    "name": "ipython",
    "version": 3
   },
   "file_extension": ".py",
   "mimetype": "text/x-python",
   "name": "python",
   "nbconvert_exporter": "python",
   "pygments_lexer": "ipython3",
   "version": "3.7.3"
  }
 },
 "nbformat": 4,
 "nbformat_minor": 2
}
