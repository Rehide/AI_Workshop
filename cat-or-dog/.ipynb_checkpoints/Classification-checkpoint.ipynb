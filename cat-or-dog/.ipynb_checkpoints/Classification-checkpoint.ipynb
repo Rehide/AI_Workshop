{
 "cells": [
  {
   "attachments": {},
   "cell_type": "markdown",
   "metadata": {},
   "source": [
    "# 画像分類\n",
    "## 〜 猫と犬の2クラス分類モデルの作成 〜\n",
    "  "
   ]
  },
  {
   "cell_type": "markdown",
   "metadata": {},
   "source": [
    "---\n",
    "## 分類モデルの学習に必要なもの\n",
    "＜学習環境＞\n",
    "   * プログラム言語: python\n",
    "   * 画像処理ライブラリ: opencv\n",
    "   * 機械学習用フレームワーク: keras     \n",
    "   * テキストエディタ: jupyter notebook   ...etc\n",
    "  \n",
    "  \n",
    "＜学習データ＞  ※水増し後(水増し前)\n",
    "* 猫: 5005枚（2505枚） \n",
    "    * 訓練データ: 4000枚（2000枚）\n",
    "    * 検証データ: 1000枚（500枚）\n",
    "    * テストデータ: 5枚 \n",
    "* 犬: 5005枚（2505枚）\n",
    "    * 訓練データ: 4000枚（2000枚）\n",
    "    * 検証データ: 1000枚（500枚）\n",
    "    * テストデータ: 5枚 \n",
    "\n",
    "※ 訓練(train)データ: 機械学習モデル自体を学習するためのデータ  \n",
    "※ 検証(validation)データ: 訓練中に定期的に学習の結果を評価するためのデータ  \n",
    "※ テスト(test)データ: モデル作成後、モデルの最終的な精度を評価するためのデータ  "
   ]
  },
  {
   "cell_type": "markdown",
   "metadata": {},
   "source": [
    "---\n",
    "## 学習手順\n",
    "1. 学習データの前処理\n",
    "    * データの水増し\n",
    "    * データの形式変換（機械学習用フレームワークに合わせるため）\n",
    "\n",
    "  \n",
    "2. モデルの設計\n",
    "      \n",
    "\n",
    "3. ハイパーパラメータの調整\n",
    "    * 調整することが多いパラメータ\n",
    "        * 学習率: 重みの更新幅（大きくしすぎると過学習しやすく、小さくしすぎると誤差の収束に時間がかかる）  \n",
    "        * batch size: 訓練データをサブセットに分けた時のサブセットのデータ数  \n",
    "        * epoch: 学習回数（訓練データを繰り返し学習させる回数）  \n",
    "  \n",
    "  \n",
    "4. 学習開始"
   ]
  },
  {
   "cell_type": "markdown",
   "metadata": {},
   "source": [
    "---\n",
    "## 学習データの前処理用プログラム"
   ]
  },
  {
   "cell_type": "code",
   "execution_count": null,
   "metadata": {},
   "outputs": [],
   "source": [
    "import cv2\n",
    "import numpy as np\n",
    "import matplotlib.pyplot as plt\n",
    "from keras.preprocessing import image\n",
    "from keras.preprocessing.image import ImageDataGenerator"
   ]
  },
  {
   "cell_type": "code",
   "execution_count": null,
   "metadata": {
    "code_folding": []
   },
   "outputs": [],
   "source": [
    "# 画像サイズ\n",
    "img_size = 64\n",
    "\n",
    "# 訓練用データセットの水増し設定\n",
    "train_datagen = ImageDataGenerator(\n",
    "    rescale = 1. / 255,             # 画像の値を0-1に正規化\n",
    "    horizontal_flip = True,       # 左右反転: 画像をランダムに左右反転させる (True, False)\n",
    "    vertical_flip = False,          # 上下反転:　画像をランダムに上下反転させる (True, False)\n",
    "    rotation_range = 0,          # 回転: 画像を指定した範囲内でランダムに回転させる　（-90~90）\n",
    "    width_shift_range = 0,    # 水平シフト: 画像を指定した範囲内でランダムに水平移動する (0~1) ← 横幅に対する割合\n",
    "    height_shift_range = 0,  # 垂直シフト: 画像を指定した範囲内でランダムに垂直移動する (0~1) ← 縦幅に対する割合\n",
    "    shear_range = 0,              # シアー強度: 画像を指定した範囲内でランダムにシアー変換する (-90~90) \n",
    "    zoom_range = 0,             # ズーム: 画像を指定した範囲内でランダムにズームする (0~1) \n",
    ")\n",
    "\n",
    "# 検証用データセットの水増し設定\n",
    "valid_datagen = ImageDataGenerator(\n",
    "    rescale = 1. / 255,\n",
    "    horizontal_flip = True,\n",
    "    vertical_flip = False, \n",
    "    rotation_range = 0,\n",
    "    width_shift_range = 0,\n",
    "    height_shift_range = 0,\n",
    "    shear_range = 0,\n",
    "    zoom_range = 0\n",
    ")\n",
    "\n",
    "# 訓練用データセットの読み込み\n",
    "train_generator = train_datagen.flow_from_directory(\n",
    "    'data/train/',                                         # 訓練データセットの格納ディレクトリ\n",
    "    target_size = (img_size, img_size),  # 64×64にリサイズ\n",
    "    batch_size = 128,                                # batch sizeの指定\n",
    "    class_mode = 'categorical')                   \n",
    "\n",
    "# 検証用データセットの読み込み\n",
    "validation_generator = valid_datagen.flow_from_directory(\n",
    "    'data/valid/', \n",
    "    target_size = (img_size, img_size),\n",
    "    batch_size = 128,\n",
    "    class_mode = 'categorical')"
   ]
  },
  {
   "cell_type": "markdown",
   "metadata": {},
   "source": [
    "### ＜おまけ＞ データ拡張(Data Augmentation)後の画像を表示する"
   ]
  },
  {
   "cell_type": "code",
   "execution_count": null,
   "metadata": {},
   "outputs": [],
   "source": [
    "def show_imgs(imgs, row, col):\n",
    "    if len(imgs) != (row * col):\n",
    "        raise ValueError(\"Invalid imgs len:{} col:{} row:{}\".format(len(imgs), row, col))\n",
    "\n",
    "    for i, img in enumerate(imgs):\n",
    "        # 画像の貼り付け箇所\n",
    "        plot_num = i + 1\n",
    "        # サブプロットの作成\n",
    "        plt.subplot(row, col, plot_num)\n",
    "        # ラベル, 軸の削除\n",
    "        plt.tick_params(bottom=False, left=False, right=False, top=False)\n",
    "        plt.tick_params(labelbottom=False, labelleft=False, labelright=False, labeltop=False) \n",
    "        # 貼り付け\n",
    "        plt.imshow(img)\n",
    "    # 表示\n",
    "    plt.show()\n",
    "\n",
    "    \n",
    "# 画像を読み込み\n",
    "img = cv2.imread(\"data/train/dog/dog.348.jpg\")\n",
    "# BGR → RGB\n",
    "img = cv2.cvtColor(img, cv2.COLOR_BGR2RGB)\n",
    "# 画像をnumpyのndarray形式に変換\n",
    "x = np.asarray(img)\n",
    "# # (height, width, 3) -> (1, height, width, 3)\n",
    "x = x.reshape((1,) + x.shape)\n",
    "\n",
    "# 表示枚数\n",
    "max_img_num = 9\n",
    "# imgsリスト: 水増しした画像を格納するためのリスト\n",
    "imgs = []\n",
    "\n",
    "# 水増しした画像をimgsに格納\n",
    "for d in train_datagen.flow(x, batch_size=1):\n",
    "    # ndarrayをPIL形式に変換して保存する\n",
    "    imgs.append(image.array_to_img(d[0], scale=True))\n",
    "    # 必要な枚数取得できたらループを抜ける\n",
    "    if (len(imgs) % max_img_num) == 0:\n",
    "        break\n",
    "        \n",
    "# show_imgs関数の呼び出し\n",
    "show_imgs(imgs, row=3, col=3)\n"
   ]
  },
  {
   "cell_type": "markdown",
   "metadata": {},
   "source": [
    "---\n",
    "## 学習用プログラム"
   ]
  },
  {
   "cell_type": "code",
   "execution_count": null,
   "metadata": {},
   "outputs": [],
   "source": [
    "import keras\n",
    "from keras.layers import Activation, Conv2D, Dense, GlobalAveragePooling2D, Flatten, MaxPooling2D, Dropout, BatchNormalization\n",
    "from keras.models import Sequential\n",
    "from keras.utils.np_utils import to_categorical\n",
    "from keras import optimizers\n",
    "from keras.optimizers import Adam"
   ]
  },
  {
   "cell_type": "code",
   "execution_count": null,
   "metadata": {},
   "outputs": [],
   "source": [
    "# モデルの設計\n",
    "model = Sequential()\n",
    "# 畳み込み1層目\n",
    "model.add(Conv2D(32, (3,3), activation=\"relu\", input_shape=(img_size, img_size, 3)))\n",
    "model.add(BatchNormalization())\n",
    "model.add(MaxPooling2D((2, 2)))\n",
    " # 畳み込み2層目\n",
    "model.add(Conv2D(64, (3, 3), activation=\"relu\"))\n",
    "model.add(BatchNormalization())\n",
    "model.add(MaxPooling2D((2, 2)))\n",
    " # 畳み込み3層目\n",
    "model.add(Conv2D(128, (3, 3), activation=\"relu\"))\n",
    "model.add(BatchNormalization())\n",
    "model.add(MaxPooling2D((2, 2)))\n",
    "#  全結合層\n",
    "model.add(Flatten())\n",
    "model.add(Dropout(0.5))\n",
    "model.add(Dense(256, activation=\"relu\"))\n",
    "model.add(BatchNormalization())\n",
    "model.add(Dense(2))                     \n",
    "model.add(Activation('softmax'))\n",
    "\n",
    "# モデルの構造を出力\n",
    "model.summary()"
   ]
  },
  {
   "cell_type": "code",
   "execution_count": null,
   "metadata": {},
   "outputs": [],
   "source": [
    "# *** ハイパーパラメータ ***\n",
    "\n",
    "# 学習更新回数 epoch = iteration / (データ数 / バッチサイズ)\n",
    "epochs = 10 \n",
    "# バッチサイズ\n",
    "batch_size = 128 \n",
    "# 学習率\n",
    "lr = 0.0001"
   ]
  },
  {
   "cell_type": "code",
   "execution_count": null,
   "metadata": {},
   "outputs": [],
   "source": [
    "# コンパイル\n",
    "adam = Adam(lr, beta_1=0.9, beta_2=0.999, epsilon=1e-08) # 最適化手法: Adam\n",
    "model.compile(optimizer=adam, loss='categorical_crossentropy', metrics=['accuracy'])\n",
    "\n",
    "# 学習\n",
    "history = model.fit_generator(train_generator,\n",
    "                                                    steps_per_epoch = len(train_generator) * 2,  \n",
    "                                                    validation_data = validation_generator, \n",
    "                                                    validation_steps = len(validation_generator) * 2, \n",
    "                                                    epochs = epochs, \n",
    "                                                    verbose=1)\n",
    "\n",
    "# acc, val_accの図をプロット\n",
    "plt.plot(history.history[\"acc\"], label=\"acc\", ls=\"-\", marker=\"o\")\n",
    "plt.plot(history.history[\"val_acc\"], label=\"val_acc\", ls=\"-\", marker=\"x\")\n",
    "plt.ylabel(\"accuracy\")\n",
    "plt.xlabel(\"epoch\")\n",
    "plt.ylim([0,1])\n",
    "plt.legend(loc=\"best\")\n",
    "plt.show()\n",
    "\n",
    "# loss, val_lossの図をプロット\n",
    "plt.plot(history.history[\"loss\"], label=\"loss\", ls=\"-\", marker=\"o\")\n",
    "plt.plot(history.history[\"val_loss\"], label=\"val_loss\", ls=\"-\", marker=\"x\")\n",
    "plt.ylabel(\"loss\")\n",
    "plt.xlabel(\"epoch\")\n",
    "plt.ylim([0,1])\n",
    "plt.legend(loc=\"best\")\n",
    "plt.show()\n",
    "\n",
    "# モデルを保存\n",
    "model.save(\"model/my_model.h5\")"
   ]
  },
  {
   "cell_type": "markdown",
   "metadata": {},
   "source": [
    "---\n",
    "## 推論用プログラム\n",
    "#### 作成したモデルで実際に分類してみましょう！"
   ]
  },
  {
   "cell_type": "code",
   "execution_count": null,
   "metadata": {},
   "outputs": [],
   "source": [
    "from keras.models import  load_model\n",
    "import sys\n",
    "import glob"
   ]
  },
  {
   "cell_type": "code",
   "execution_count": null,
   "metadata": {},
   "outputs": [],
   "source": [
    "# クラス名を定義\n",
    "name = [\"cat\", \"dog\"]\n",
    "\n",
    "# モデルの読み込み\n",
    "model = load_model('model/my_model.h5')\n",
    "\n",
    "#　画像ファイルのpathを取得\n",
    "path = \"data/test/\"\n",
    "files = sorted(glob.glob(path + \"/*.jpg\")) \n",
    "\n",
    "#　各画像の形式を変換\n",
    "for f in files:\n",
    "    img = cv2.imread(f) #　画像を読み込む\n",
    "    img = cv2.resize(img, (img_size, img_size)) #　画像を64×64にリサイズ\n",
    "\n",
    "    # 画像が見つからなかった場合、Not openを出力\n",
    "    if img is None:\n",
    "        print(\"Not open:\")\n",
    "    \n",
    "    # 画像をモデルが読み込めるように変換\n",
    "    data = cv2.resize(img, (img_size, img_size))\n",
    "    x = np.asarray(data)\n",
    "    x = x.reshape(-1, img_size, img_size, 3)\n",
    "    x = x.astype(\"float32\") / 255\n",
    "    # 推論\n",
    "    pre = model.predict([x])[0]\n",
    "    idx = pre.argmax()\n",
    "    # 結果を出力\n",
    "    print(\">> 予測結果↓\\n\" + name[0] + \": \" + str(round(pre[0]*100, 2)) + \"%\\n\" + name[1] + \": \" + str(round(pre[1]*100, 2)) + \"%\\n\")\n",
    "    print(\">> この画像は「\" + name[idx].replace(\",\", \"\") + \"」です。\")\n",
    "\n",
    "    # BGR → RGB\n",
    "    img = cv2.cvtColor(img, cv2.COLOR_BGR2RGB)\n",
    "    \n",
    "    # 画像の表示\n",
    "    plt.imshow(img)\n",
    "    plt.show()\n",
    "    print(\"----------------------------------------------------\")"
   ]
  },
  {
   "cell_type": "code",
   "execution_count": null,
   "metadata": {},
   "outputs": [],
   "source": []
  }
 ],
 "metadata": {
  "kernelspec": {
   "display_name": "Python 3",
   "language": "python",
   "name": "python3"
  },
  "language_info": {
   "codemirror_mode": {
    "name": "ipython",
    "version": 3
   },
   "file_extension": ".py",
   "mimetype": "text/x-python",
   "name": "python",
   "nbconvert_exporter": "python",
   "pygments_lexer": "ipython3",
   "version": "3.7.3"
  }
 },
 "nbformat": 4,
 "nbformat_minor": 2
}
